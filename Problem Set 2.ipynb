{
 "cells": [
  {
   "cell_type": "markdown",
   "metadata": {},
   "source": [
    "**PROBLEM SET 2**"
   ]
  },
  {
   "cell_type": "raw",
   "metadata": {},
   "source": [
    "**Question 1**\n",
    "\n",
    "Consider the following Python module:\n",
    "a = 0\n",
    "def b():\n",
    "global a\n",
    "a = c(a)\n",
    "def c(a):\n",
    "return a + 2\n",
    "After importing the module into the interpreter, you execute:\n",
    ">>> b()\n",
    ">>> b()\n",
    ">>> b()\n",
    ">>> a\n",
    "?\n",
    "What value is displayed when the last expression (a) is evaluated? Explain your answer by indicating what happens in every executed statement."
   ]
  },
  {
   "cell_type": "markdown",
   "metadata": {},
   "source": [
    "**Answer** "
   ]
  },
  {
   "cell_type": "code",
   "execution_count": null,
   "metadata": {},
   "outputs": [],
   "source": [
    "a = 0\n",
    "\n",
    "def b():\n",
    "    global a\n",
    "    a = c(a)\n",
    "    \n",
    "def c(a):\n",
    "    return a + 2\n",
    "\n",
    "b()\n",
    "b()\n",
    "b()\n",
    "a"
   ]
  },
  {
   "cell_type": "markdown",
   "metadata": {},
   "source": [
    "When executing the above statement it calls the function b three times. the functions main execution turns the initially defined a variable which is 0 in to a global variable which can be called within the next function as well.\n",
    "Then the next line assigns the value of a which will be the function of c multiplied by the value of A which is intially zero\n",
    "\n",
    "the function c takes in the inital a variable as a parameter and returns the value and increments it by +2\n",
    "therefore the current value of the a variable is 2\n",
    "\n",
    "running this command three times will itterate it thrice which will keep incrementing the a variable by +2 each line and finally calling the a variable at the end outputs it as 6"
   ]
  },
  {
   "cell_type": "raw",
   "metadata": {},
   "source": [
    "**Question 2**\n",
    "\n",
    "\n",
    "Function fileLength(), given to you, takes the name of a file as input and returns the length of the file: \n",
    "\n",
    ">>> fileLength('midterm.py') \n",
    "284 \n",
    "\n",
    ">>> fileLength('idterm.py')\n",
    "Traceback (most recent call last)\n",
    "     File \"<pyshell#34>\", line 1, in <module> \n",
    "    fileLength('idterm.py') \n",
    "    File \"/Users/me/midterm.py\", line 3, in fileLength \n",
    "    infile = open(filename) \n",
    " FileNotFoundError: [Errno 2] No such file or directory: 'idterm.py'\n",
    "    \n",
    "    \n",
    "As shown above, if the file cannot be found by the interpreter or if it cannot be read as a text file, an exception will be raised. Modify function fileLength() so that a friendly message is printed instead: \n",
    "    \n",
    "    >>> fileLength('midterm.py') \n",
    "    358 \n",
    "    >>> fileLength('idterm.py') \n",
    "    File idterm.py not found."
   ]
  },
  {
   "cell_type": "markdown",
   "metadata": {},
   "source": [
    "**Answer**"
   ]
  },
  {
   "cell_type": "code",
   "execution_count": null,
   "metadata": {},
   "outputs": [],
   "source": [
    "try:\n",
    "    fileLength('idterm.py')\n",
    "    infile = open(filename) \n",
    "except:\n",
    "    print(\"File idterm.py not found\")\n",
    "    "
   ]
  },
  {
   "cell_type": "raw",
   "metadata": {},
   "source": [
    "**Question 3**\n",
    "\n",
    "Write a class named Marsupial that can be used as shown below: \n",
    "\n",
    ">>> m = Marsupial() \n",
    ">>> m.put_in_pouch('doll') \n",
    ">>> m.put_in_pouch('firetruck') \n",
    ">>> m.put_in_pouch('kitten') \n",
    ">>> m.pouch_contents() \n",
    "['doll', 'firetruck', 'kitten']\n",
    "\n",
    "Now write a class named Kangaroo as a subclass of Marsupial that inherits all the attributes of Marsupial and also:\n",
    "a. extends the Marsupial __init__ constructor to take, as input, the coordinates x and y of the Kangaroo object,\n",
    "b. supports method jump that takes number values dx and dy as input and moves the kangaroo by dx units along the x-axis and by dy units along the y-axis, and\n",
    "c. overloads the __str__ operator so it behaves as shown below.\n",
    "\n",
    ">>> k = Kangaroo(0,0) \n",
    ">>> print(k) \n",
    "I am a Kangaroo located at coordinates (0,0) \n",
    ">>> k.put_in_pouch('doll') \n",
    ">>> k.put_in_pouch('firetruck') \n",
    ">>> k.put_in_pouch('kitten') \n",
    ">>> k.pouch_contents() \n",
    "['doll', 'firetruck', 'kitten'] \n",
    ">>> k.jump(1,0) \n",
    ">>> k.jump(1,0) \n",
    ">>> k.jump(1,0) \n",
    ">>> print(k) \n",
    "I am a Kangaroo located at coordinates (3,0)"
   ]
  },
  {
   "cell_type": "markdown",
   "metadata": {},
   "source": [
    "**Answer** *"
   ]
  },
  {
   "cell_type": "code",
   "execution_count": null,
   "metadata": {},
   "outputs": [],
   "source": [
    "marsupial = []\n",
    "\n",
    "marsupial.append('doll')\n",
    "marsupial.append('firetruck') \n",
    "marsupial.append('kitten') \n",
    "print(marsupial)\n"
   ]
  },
  {
   "cell_type": "raw",
   "metadata": {},
   "source": [
    "**Question 4**\n",
    "\n",
    "Write function collatz() that takes a positive integer x as input and prints the \n",
    "Collatz sequence starting at x. A Collatz sequence is obtained by repeatedly applying \n",
    "this rule to the previous number x in the sequence:\n",
    "\n",
    "x = { 𝑥/2 𝑖𝑓 𝑥 𝑖𝑠 𝑒𝑣𝑒𝑛3𝑥+1 𝑖𝑓 𝑥 𝑖𝑠 𝑜𝑑𝑑\n",
    "     \n",
    "Your function should stop when the sequence gets to number 1. \n",
    "Your implementation must be recursive, without any loops.\n",
    ">>> collatz(1)\n",
    "1\n",
    ">>> collatz(10)\n",
    "10\n",
    "5\n",
    "16\n",
    "8\n",
    "4\n",
    "2\n",
    "1"
   ]
  },
  {
   "cell_type": "markdown",
   "metadata": {},
   "source": [
    "**Answer** *"
   ]
  },
  {
   "cell_type": "code",
   "execution_count": null,
   "metadata": {},
   "outputs": [],
   "source": [
    "inte = int(input(\"Enter number\")) \n",
    "\n",
    "def collatz(inte):\n",
    "    \n",
    "    if inte < 0:\n",
    "        print(\"Input a positive integer\")\n",
    "    else:\n",
    "        while inte >=1:\n",
    "            inte = (inte/2)\n",
    "            print(inte)\n",
    "        else:\n",
    "            while\n",
    "\n",
    "collatz(inte)"
   ]
  },
  {
   "cell_type": "raw",
   "metadata": {},
   "source": [
    "**Question 5** \n",
    "\n",
    "Write a recursive method binary() that takes a non-negative \n",
    "integer n and prints the binary representation of integer n. \n",
    ">>> binary(0) \n",
    "0 \n",
    ">>> binary(1) \n",
    "1 \n",
    ">>> binary(3) \n",
    "11 \n",
    ">>> binary(9) \n",
    "1001"
   ]
  },
  {
   "cell_type": "markdown",
   "metadata": {},
   "source": [
    "**Answer**"
   ]
  },
  {
   "cell_type": "code",
   "execution_count": null,
   "metadata": {},
   "outputs": [],
   "source": [
    "inputw = int(input(\"Enter positive integer number\"))\n",
    "\n",
    "def binary(inputw):\n",
    "    if inputw < 0:\n",
    "        print(\"Input a positive integer\")\n",
    "    else:\n",
    "        return \"{0:b}\".format(inputw)\n",
    "        \n",
    "binary(inputw)"
   ]
  },
  {
   "cell_type": "raw",
   "metadata": {},
   "source": [
    "**Question 6**\n",
    "\n",
    "Implement a class named HeadingParser that can be used to parse an HTML \n",
    "document, and retrieve and print all the headings in the document. \n",
    "You should implement your class as a subclass of HTMLParser, \n",
    "defined in Standard Library module html.parser. \n",
    "When fed a string containing HTML code, \n",
    "your class should print the headings, \n",
    "one per line and in the order in which they appear in the document. \n",
    "Each heading should be indented as follows: an h1 heading should have\n",
    "indentation 0, and h2 heading should have indentation 1, etc. Test your implementation using w3c.html.\n",
    "\n",
    ">>> infile = open('w3c.html')\n",
    ">>> content = infile.read()\n",
    ">>> infile.close()\n",
    ">>> hp = HeadingParser()\n",
    ">>> hp.feed(content)\n",
    "W3C Mission\n",
    "Principles"
   ]
  },
  {
   "cell_type": "markdown",
   "metadata": {},
   "source": [
    "**Answer** "
   ]
  },
  {
   "cell_type": "code",
   "execution_count": null,
   "metadata": {},
   "outputs": [],
   "source": [
    "#help - https://docs.python.org/3/library/html.parser.html\n",
    "from html.parser import HTMLParser\n",
    "\n",
    "inputfile = open(\"w3c.html\", \"r\")\n",
    "content = inputfile.read()\n",
    "inputfile.close()\n",
    "\n",
    "class headingParser(HTMLParser):\n",
    "\n",
    "    def __init__(self):\n",
    "        super().__init__()\n",
    "        self.data = []\n",
    "        self.capture = False\n",
    "\n",
    "    def handle_starttag(self, tag, attrs):\n",
    "        if tag in ('p', 'h1'):\n",
    "            self.capture = True\n",
    "        elif tag in ('p', 'h2'):\n",
    "            self.capture = True\n",
    "        \n",
    "    def handle_endtag(self, tag):\n",
    "        if tag in ('p', 'h1'):\n",
    "            self.capture = False\n",
    "        elif tag in ('p', 'h2'):\n",
    "            self.capture = False\n",
    "\n",
    "    def handle_data(self, data):\n",
    "        if self.capture:\n",
    "            self.data.append(data)\n",
    "\n",
    "parser = headingParser()\n",
    "parser.feed(content)\n",
    "\n",
    "print(parser.data)"
   ]
  },
  {
   "cell_type": "raw",
   "metadata": {},
   "source": [
    "**Question 7**\n",
    "\n",
    "Implement recursive function webdir() \n",
    "that takes as input: a URL (as a string) \n",
    "and non-negative integers depth and indent. \n",
    "Your function should visit every web page reachable from the starting URL web page in depth clicks or less, and print each web page's URL. \n",
    "As shown below, indentation, specified by indent, should be used to indicate the depth of a URL.\n",
    "\n",
    ">>> webdir('http://reed.cs.depaul.edu/lperkovic/csc242/test1.html', 2, 0) http://reed.cs.depaul.edu/lperkovic/csc242/test1.html http://reed.cs.depaul.edu/lperkovic/csc242/test2.html http://reed.cs.depaul.edu/lperkovic/csc242/test4.html http://reed.cs.depaul.edu/lperkovic/csc242/test3.html http://reed.cs.depaul.edu/lperkovic/csc242/test4.html"
   ]
  },
  {
   "cell_type": "markdown",
   "metadata": {},
   "source": [
    "**Answer** *"
   ]
  },
  {
   "cell_type": "code",
   "execution_count": null,
   "metadata": {},
   "outputs": [],
   "source": [
    "inputurl = input(\"Enter URL \")\n",
    "inputw = int(input(\"Enter indent \"))\n",
    "\n",
    "def urlindent(inputurl):\n",
    "    while inputw > 0:\n",
    "        print(\"poop\")\n",
    "    else:\n",
    "        print(\"Enter Valid number\")\n",
    "urlindent()"
   ]
  },
  {
   "cell_type": "raw",
   "metadata": {},
   "source": [
    "**Question 8**\n",
    "\n",
    "Write SQL queries on the below database table that return:\n",
    "\n",
    "a) All the temperature data.\n",
    "b) All the cities, but without repetition.\n",
    "c) All the records for India.\n",
    "d) All the Fall records.\n",
    "e) The city, country, and season for which the average rainfall is between 200 and 400 millimeters.\n",
    "f) The city and country for which the average Fall temperature is above 20 degrees, in increasing temperature order.\n",
    "g) The total annual rainfall for Cairo.\n",
    "h) The total rainfall for each season."
   ]
  },
  {
   "cell_type": "markdown",
   "metadata": {},
   "source": [
    "**Answer**"
   ]
  },
  {
   "cell_type": "markdown",
   "metadata": {},
   "source": [
    "\n",
    "a. SELECT temperature FROM table \n",
    "b. SELECT DISTINCT city FROM table \n",
    "c. SELECT * FROM table WHERE Country = \"India\"\n",
    "d. SELECT * FROM table WHERE Season = \"Fall\"\n",
    "e. SELECT city,country,season FROM table WHERE rainfall BETWEEN 200 and 400 \n",
    "f. SELECT city,country FROM table WHERE season = \"Fall\" AND temperature>20 ORDER BY temperature ASC\n",
    "g. SELECT city,county,season, temperature, rainfall*365 AS totalrf FROM table WHERE city=\"cairo\"\n",
    "h. SELECT city,county,season, temperature, rainfall*365 AS totalrf FROM table ORDER BY season\n"
   ]
  },
  {
   "cell_type": "raw",
   "metadata": {},
   "source": [
    "**Question 9**\n",
    "\n",
    ". Suppose list words is defined as follows:\n",
    ">>> words = ['The', 'quick', 'brown', 'fox', 'jumps', 'over', 'the', 'lazy', 'dog']\n",
    "\n",
    "Write list comprehension expressions that use list words and generate the following lists:\n",
    "\n",
    "a) ['THE', 'QUICK', 'BROWN', 'FOX', 'JUMPS', 'OVER', 'THE', 'LAZY', 'DOG']\n",
    "b) ['the', 'quick', 'brown', 'fox', 'jumps', 'over', 'the', 'lazy', 'dog']\n",
    "c) [3, 5, 5, 3, 5, 4, 3, 4, 3] (the list of lengths of words in list words).\n",
    "d) [['THE', 'the', 3], ['QUICK', 'quick', 5], ['BROWN', 'brown', 5], ['FOX', 'fox', 3], ['JUMPS', 'jumps', 5], ['OVER', 'over', 4], ['THE', 'the', 3], ['LAZY', 'lazy', 4], ['DOG', 'dog', 3]] (the list containing a list for every word of list words, where each list contains the word in uppercase and lowercase and the length of the word.)\n",
    "e) ['The', 'quick', 'brown', 'fox', 'jumps', 'over', 'the', 'lazy', 'dog'] (the list of words in list words containing 4 or more characters.)"
   ]
  },
  {
   "cell_type": "markdown",
   "metadata": {},
   "source": [
    "**Answer**"
   ]
  },
  {
   "cell_type": "code",
   "execution_count": null,
   "metadata": {
    "scrolled": true
   },
   "outputs": [],
   "source": [
    "words = ['The', 'quick', 'brown', 'fox', 'jumps', 'over', 'the', 'lazy', 'dog']"
   ]
  },
  {
   "cell_type": "code",
   "execution_count": null,
   "metadata": {},
   "outputs": [],
   "source": [
    "def uppercae():\n",
    "    for word in words:\n",
    "        convert = word.upper()\n",
    "        print(convert)\n",
    "\n",
    "uppercae()"
   ]
  },
  {
   "cell_type": "code",
   "execution_count": null,
   "metadata": {},
   "outputs": [],
   "source": [
    "#b.\n",
    "\n",
    "\n",
    "def lowercae():\n",
    "    for word in words:\n",
    "        convert = word.lower()\n",
    "        print(convert)\n",
    "\n",
    "lowercae()"
   ]
  },
  {
   "cell_type": "code",
   "execution_count": null,
   "metadata": {},
   "outputs": [],
   "source": [
    "#c.\n",
    "def wlength():\n",
    "    for word in words:\n",
    "        length = len(word)\n",
    "        print(length)\n",
    "\n",
    "wlength()"
   ]
  },
  {
   "cell_type": "code",
   "execution_count": null,
   "metadata": {},
   "outputs": [],
   "source": [
    "#d.\n",
    "def final():\n",
    "    for word in words:\n",
    "        convertu = word.upper()\n",
    "        convertl = word.lower()\n",
    "        length = len(word)\n",
    "        list=[convertu,convertl,length]\n",
    "        print(list)\n",
    "\n",
    "final()"
   ]
  },
  {
   "cell_type": "code",
   "execution_count": null,
   "metadata": {},
   "outputs": [],
   "source": [
    "#e.\n",
    "def charactercheck():\n",
    "    for word in words:\n",
    "        length = len(word)\n",
    "        if length > 4:\n",
    "            print(word)\n",
    "\n",
    "charactercheck()"
   ]
  }
 ],
 "metadata": {
  "kernelspec": {
   "display_name": "Python 3",
   "language": "python",
   "name": "python3"
  },
  "language_info": {
   "codemirror_mode": {
    "name": "ipython",
    "version": 3
   },
   "file_extension": ".py",
   "mimetype": "text/x-python",
   "name": "python",
   "nbconvert_exporter": "python",
   "pygments_lexer": "ipython3",
   "version": "3.8.5"
  }
 },
 "nbformat": 4,
 "nbformat_minor": 4
}
